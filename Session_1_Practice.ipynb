{
 "cells": [
  {
   "cell_type": "markdown",
   "metadata": {},
   "source": [
    "### Session 1 Assignment!"
   ]
  },
  {
   "cell_type": "markdown",
   "metadata": {},
   "source": [
    "For this assignment, set up your environment according to [the instructions we went over together](https://github.com/tharma3/data_school/blob/master/Session_1.ipynb).  Get to the point where you have a notebook open and **import pandas as pd** like below."
   ]
  },
  {
   "cell_type": "code",
   "execution_count": 2,
   "metadata": {},
   "outputs": [],
   "source": [
    "import pandas as pd"
   ]
  },
  {
   "cell_type": "markdown",
   "metadata": {},
   "source": [
    "Now that you have imported pandas, we're going to import our first dataset!  In pandas, a table/spreadsheet/worksheet/whatever is called a dataframe.  We are going to read in a table from Open Data and give it a descriptive name."
   ]
  },
  {
   "cell_type": "code",
   "execution_count": 3,
   "metadata": {},
   "outputs": [],
   "source": [
    "url = 'https://data.cityofnewyork.us/resource/5hyw-n69x.csv'\n",
    "dog_data = pd.read_csv(url)"
   ]
  },
  {
   "cell_type": "markdown",
   "metadata": {},
   "source": [
    "To take a peek at a dataframe, we can use the functions .head() or .tail() to look at the first or final 5 rows of the table.  Below is .head().  Try out .tail() also!"
   ]
  },
  {
   "cell_type": "code",
   "execution_count": 4,
   "metadata": {},
   "outputs": [
    {
     "data": {
      "text/html": [
       "<div>\n",
       "<style scoped>\n",
       "    .dataframe tbody tr th:only-of-type {\n",
       "        vertical-align: middle;\n",
       "    }\n",
       "\n",
       "    .dataframe tbody tr th {\n",
       "        vertical-align: top;\n",
       "    }\n",
       "\n",
       "    .dataframe thead th {\n",
       "        text-align: right;\n",
       "    }\n",
       "</style>\n",
       "<table border=\"1\" class=\"dataframe\">\n",
       "  <thead>\n",
       "    <tr style=\"text-align: right;\">\n",
       "      <th></th>\n",
       "      <th>animalbirth</th>\n",
       "      <th>animalgender</th>\n",
       "      <th>animalname</th>\n",
       "      <th>borough</th>\n",
       "      <th>breedname</th>\n",
       "      <th>censustract2010</th>\n",
       "      <th>citycouncildistrict</th>\n",
       "      <th>communitydistrict</th>\n",
       "      <th>congressionaldistrict</th>\n",
       "      <th>licenseexpireddate</th>\n",
       "      <th>licenseissueddate</th>\n",
       "      <th>nta</th>\n",
       "      <th>rownumber</th>\n",
       "      <th>statesenatorialdistrict</th>\n",
       "      <th>zipcode</th>\n",
       "    </tr>\n",
       "  </thead>\n",
       "  <tbody>\n",
       "    <tr>\n",
       "      <th>0</th>\n",
       "      <td>2000-01-01T00:00:00.000</td>\n",
       "      <td>M</td>\n",
       "      <td>SHADOW</td>\n",
       "      <td>Brooklyn</td>\n",
       "      <td>Beagle</td>\n",
       "      <td>1014.0</td>\n",
       "      <td>46.0</td>\n",
       "      <td>318.0</td>\n",
       "      <td>8.0</td>\n",
       "      <td>2016-01-30T00:00:00.000</td>\n",
       "      <td>2014-12-29T00:00:00.000</td>\n",
       "      <td>BK50</td>\n",
       "      <td>1753</td>\n",
       "      <td>19.0</td>\n",
       "      <td>11236</td>\n",
       "    </tr>\n",
       "    <tr>\n",
       "      <th>1</th>\n",
       "      <td>2011-10-01T00:00:00.000</td>\n",
       "      <td>M</td>\n",
       "      <td>ROCCO</td>\n",
       "      <td>Brooklyn</td>\n",
       "      <td>Boxer</td>\n",
       "      <td>756.0</td>\n",
       "      <td>45.0</td>\n",
       "      <td>314.0</td>\n",
       "      <td>9.0</td>\n",
       "      <td>2016-01-30T00:00:00.000</td>\n",
       "      <td>2015-01-07T00:00:00.000</td>\n",
       "      <td>BK43</td>\n",
       "      <td>2415</td>\n",
       "      <td>17.0</td>\n",
       "      <td>11210</td>\n",
       "    </tr>\n",
       "    <tr>\n",
       "      <th>2</th>\n",
       "      <td>2005-09-01T00:00:00.000</td>\n",
       "      <td>M</td>\n",
       "      <td>LUIGI</td>\n",
       "      <td>Bronx</td>\n",
       "      <td>Maltese</td>\n",
       "      <td>516.0</td>\n",
       "      <td>13.0</td>\n",
       "      <td>210.0</td>\n",
       "      <td>14.0</td>\n",
       "      <td>2016-02-02T00:00:00.000</td>\n",
       "      <td>2015-01-17T00:00:00.000</td>\n",
       "      <td>BX10</td>\n",
       "      <td>3328</td>\n",
       "      <td>34.0</td>\n",
       "      <td>10464</td>\n",
       "    </tr>\n",
       "    <tr>\n",
       "      <th>3</th>\n",
       "      <td>2013-08-01T00:00:00.000</td>\n",
       "      <td>F</td>\n",
       "      <td>PETUNIA</td>\n",
       "      <td>Brooklyn</td>\n",
       "      <td>Pug</td>\n",
       "      <td>419.0</td>\n",
       "      <td>34.0</td>\n",
       "      <td>304.0</td>\n",
       "      <td>7.0</td>\n",
       "      <td>2016-03-28T00:00:00.000</td>\n",
       "      <td>2015-03-01T00:00:00.000</td>\n",
       "      <td>BK78</td>\n",
       "      <td>7537</td>\n",
       "      <td>18.0</td>\n",
       "      <td>11221</td>\n",
       "    </tr>\n",
       "    <tr>\n",
       "      <th>4</th>\n",
       "      <td>2008-10-01T00:00:00.000</td>\n",
       "      <td>M</td>\n",
       "      <td>ROMEO</td>\n",
       "      <td>Bronx</td>\n",
       "      <td>Maltese</td>\n",
       "      <td>65.0</td>\n",
       "      <td>17.0</td>\n",
       "      <td>201.0</td>\n",
       "      <td>15.0</td>\n",
       "      <td>2016-03-09T00:00:00.000</td>\n",
       "      <td>2015-03-09T00:00:00.000</td>\n",
       "      <td>BX34</td>\n",
       "      <td>8487</td>\n",
       "      <td>32.0</td>\n",
       "      <td>10451</td>\n",
       "    </tr>\n",
       "  </tbody>\n",
       "</table>\n",
       "</div>"
      ],
      "text/plain": [
       "               animalbirth animalgender animalname   borough breedname  \\\n",
       "0  2000-01-01T00:00:00.000            M    SHADOW   Brooklyn    Beagle   \n",
       "1  2011-10-01T00:00:00.000            M      ROCCO  Brooklyn     Boxer   \n",
       "2  2005-09-01T00:00:00.000            M      LUIGI     Bronx   Maltese   \n",
       "3  2013-08-01T00:00:00.000            F    PETUNIA  Brooklyn       Pug   \n",
       "4  2008-10-01T00:00:00.000            M      ROMEO     Bronx   Maltese   \n",
       "\n",
       "   censustract2010  citycouncildistrict  communitydistrict  \\\n",
       "0           1014.0                 46.0              318.0   \n",
       "1            756.0                 45.0              314.0   \n",
       "2            516.0                 13.0              210.0   \n",
       "3            419.0                 34.0              304.0   \n",
       "4             65.0                 17.0              201.0   \n",
       "\n",
       "   congressionaldistrict       licenseexpireddate        licenseissueddate  \\\n",
       "0                    8.0  2016-01-30T00:00:00.000  2014-12-29T00:00:00.000   \n",
       "1                    9.0  2016-01-30T00:00:00.000  2015-01-07T00:00:00.000   \n",
       "2                   14.0  2016-02-02T00:00:00.000  2015-01-17T00:00:00.000   \n",
       "3                    7.0  2016-03-28T00:00:00.000  2015-03-01T00:00:00.000   \n",
       "4                   15.0  2016-03-09T00:00:00.000  2015-03-09T00:00:00.000   \n",
       "\n",
       "    nta  rownumber  statesenatorialdistrict  zipcode  \n",
       "0  BK50       1753                     19.0    11236  \n",
       "1  BK43       2415                     17.0    11210  \n",
       "2  BX10       3328                     34.0    10464  \n",
       "3  BK78       7537                     18.0    11221  \n",
       "4  BX34       8487                     32.0    10451  "
      ]
     },
     "execution_count": 4,
     "metadata": {},
     "output_type": "execute_result"
    }
   ],
   "source": [
    "dog_data.head()"
   ]
  },
  {
   "cell_type": "code",
   "execution_count": 5,
   "metadata": {},
   "outputs": [],
   "source": [
    "#try out .tail() in this cell!\n",
    "\n"
   ]
  },
  {
   "cell_type": "markdown",
   "metadata": {},
   "source": [
    "Pandas also has a function that will tell you the datatype of each of the columns, [.dtypes](https://pandas.pydata.org/pandas-docs/stable/generated/pandas.DataFrame.dtypes.html).  Try it out below!"
   ]
  },
  {
   "cell_type": "code",
   "execution_count": 7,
   "metadata": {},
   "outputs": [
    {
     "data": {
      "text/plain": [
       "animalbirth                 object\n",
       "animalgender                object\n",
       "animalname                  object\n",
       "borough                     object\n",
       "breedname                   object\n",
       "censustract2010            float64\n",
       "citycouncildistrict        float64\n",
       "communitydistrict          float64\n",
       "congressionaldistrict      float64\n",
       "licenseexpireddate          object\n",
       "licenseissueddate           object\n",
       "nta                         object\n",
       "rownumber                    int64\n",
       "statesenatorialdistrict    float64\n",
       "zipcode                      int64\n",
       "dtype: object"
      ]
     },
     "execution_count": 7,
     "metadata": {},
     "output_type": "execute_result"
    }
   ],
   "source": [
    "dog_data.dtypes"
   ]
  },
  {
   "cell_type": "code",
   "execution_count": null,
   "metadata": {},
   "outputs": [],
   "source": []
  }
 ],
 "metadata": {
  "kernelspec": {
   "display_name": "Python 3",
   "language": "python",
   "name": "python3"
  },
  "language_info": {
   "codemirror_mode": {
    "name": "ipython",
    "version": 3
   },
   "file_extension": ".py",
   "mimetype": "text/x-python",
   "name": "python",
   "nbconvert_exporter": "python",
   "pygments_lexer": "ipython3",
   "version": "3.6.6"
  }
 },
 "nbformat": 4,
 "nbformat_minor": 2
}
