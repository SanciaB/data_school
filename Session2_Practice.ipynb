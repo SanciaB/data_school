{
 "cells": [
  {
   "cell_type": "code",
   "execution_count": 1,
   "metadata": {},
   "outputs": [],
   "source": [
    "# import the packages\n",
    "import pandas as pd \n",
    "import os"
   ]
  },
  {
   "cell_type": "markdown",
   "metadata": {},
   "source": [
    "**1st Task: import a CSV file from your local working directory into pandas dataframe**"
   ]
  },
  {
   "cell_type": "code",
   "execution_count": 2,
   "metadata": {},
   "outputs": [
    {
     "data": {
      "text/plain": [
       "'C:\\\\Users\\\\sujlee'"
      ]
     },
     "execution_count": 2,
     "metadata": {},
     "output_type": "execute_result"
    }
   ],
   "source": [
    "## check a current working directory \n",
    "os.getcwd()\n",
    "\n",
    "## The file should be located in a working directory if you want to use 'pd.read_csv' method. "
   ]
  },
  {
   "cell_type": "code",
   "execution_count": 3,
   "metadata": {},
   "outputs": [
    {
     "data": {
      "text/plain": [
       "'C:\\\\Users\\\\sujlee\\\\Data School'"
      ]
     },
     "execution_count": 3,
     "metadata": {},
     "output_type": "execute_result"
    }
   ],
   "source": [
    "## change a working directory \n",
    "os.chdir('C:\\Users\\sujlee\\Data School')\n",
    "os.getcwd()"
   ]
  },
  {
   "cell_type": "code",
   "execution_count": 5,
   "metadata": {},
   "outputs": [],
   "source": [
    "## import the Titanic CSV file into pandas dataframe and name the dataframe as 'titanic'\n",
    "\n",
    "titanic = pd.read_csv('titanic.csv', sep = '|')"
   ]
  },
  {
   "cell_type": "markdown",
   "metadata": {},
   "source": [
    "**2nd Task: Inspecting Data**\n",
    "\n",
    "Variable description: http://campus.lakeforest.edu/frank/FILES/MLFfiles/Bio150/Titanic/TitanicMETA.pdf"
   ]
  },
  {
   "cell_type": "code",
   "execution_count": null,
   "metadata": {},
   "outputs": [],
   "source": [
    "## Question 1: What are the average and median passenger fare? \n",
    "\n",
    "## Your answer \n",
    "\n"
   ]
  },
  {
   "cell_type": "code",
   "execution_count": null,
   "metadata": {},
   "outputs": [],
   "source": [
    "## Question 2: How many passengers by pclass (passenger class)? \n",
    "\n",
    "## Your answer \n",
    "\n"
   ]
  },
  {
   "cell_type": "code",
   "execution_count": null,
   "metadata": {},
   "outputs": [],
   "source": [
    "## Question 3: How many people boarded the Titanic from Southampton with 3rd class ticket? \n",
    "\n",
    "## Your answer \n",
    "\n"
   ]
  },
  {
   "cell_type": "code",
   "execution_count": null,
   "metadata": {},
   "outputs": [],
   "source": [
    "## Question 4: How many people survived by passenger class x gender with pd.crosstab method? \n",
    "\n",
    "## Hint: survived column (0 = No; 1 = Yes)/ you can use aggfunc parameter in the end to calcuate it\n",
    "\n",
    "## Your answer \n",
    "\n"
   ]
  },
  {
   "cell_type": "markdown",
   "metadata": {},
   "source": [
    "**3rd Task: Selection data**"
   ]
  },
  {
   "cell_type": "code",
   "execution_count": null,
   "metadata": {},
   "outputs": [],
   "source": [
    "## Question 5: select 'pclass', 'survived', 'sex', 'age', 'fare' columns with all rows \n",
    "            # and assign a new name whatever you like to a new data frame \n",
    "\n",
    "## Your answer \n",
    "\n"
   ]
  },
  {
   "cell_type": "code",
   "execution_count": null,
   "metadata": {},
   "outputs": [],
   "source": [
    "## Question 6 : show the first 10 rows of your new data frame \n",
    "\n",
    "## Your answer\n",
    "\n"
   ]
  },
  {
   "cell_type": "code",
   "execution_count": null,
   "metadata": {},
   "outputs": [],
   "source": [
    "## Question 7: select subset of a data frame : for those who boarded at Southampton using 'embarked' column \n",
    "\n",
    "# Hint: df.loc[condition] \n",
    "\n",
    "## Your answer\n",
    "\n"
   ]
  },
  {
   "cell_type": "code",
   "execution_count": null,
   "metadata": {},
   "outputs": [],
   "source": [
    "## Last question: for those who boarded at Southampton and male \n",
    "\n",
    "# Hint: df.loc[(1st condition) & (2nd condition)]\n",
    "\n",
    "## Your answer \n",
    "\n"
   ]
  }
 ],
 "metadata": {
  "kernelspec": {
   "display_name": "Python 2",
   "language": "python",
   "name": "python2"
  },
  "language_info": {
   "codemirror_mode": {
    "name": "ipython",
    "version": 2
   },
   "file_extension": ".py",
   "mimetype": "text/x-python",
   "name": "python",
   "nbconvert_exporter": "python",
   "pygments_lexer": "ipython2",
   "version": "2.7.15"
  }
 },
 "nbformat": 4,
 "nbformat_minor": 2
}
