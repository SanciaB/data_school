{
 "cells": [
  {
   "cell_type": "markdown",
   "metadata": {},
   "source": [
    "### Opportunity Data School Session 1"
   ]
  },
  {
   "cell_type": "markdown",
   "metadata": {},
   "source": [
    "For this session, we will be focusing on: \n",
    "-  How to navigate using the Anaconda distribution of Python\n",
    "-  How to create and switch between environments\n",
    "-  Packages and how to install them\n",
    "-  How to start up Jupyter Lab and import Pandas."
   ]
  },
  {
   "cell_type": "markdown",
   "metadata": {},
   "source": [
    "***"
   ]
  },
  {
   "cell_type": "markdown",
   "metadata": {},
   "source": [
    "### The Anaconda distribution!"
   ]
  },
  {
   "cell_type": "markdown",
   "metadata": {},
   "source": [
    "<img src=\"https://media.giphy.com/media/2lbhL8dSGMh8I/giphy.gif\" alt=\"Not that kind of Python\" title=\"Not this kind of Python\" />"
   ]
  },
  {
   "cell_type": "markdown",
   "metadata": {},
   "source": [
    "You should have downloaded the Anaconda distribution before this session, and if you have, you'll see the following in your directory:"
   ]
  },
  {
   "cell_type": "markdown",
   "metadata": {},
   "source": [
    "![directory](screenshots/start_menu.PNG)"
   ]
  },
  {
   "cell_type": "markdown",
   "metadata": {},
   "source": [
    "We're going to start by clicking on the Anaconda Prompt."
   ]
  },
  {
   "cell_type": "markdown",
   "metadata": {},
   "source": [
    "![directory](screenshots/anaconda_prompt.PNG)"
   ]
  },
  {
   "cell_type": "markdown",
   "metadata": {},
   "source": [
    "(ignore that weird warning at the top)"
   ]
  },
  {
   "cell_type": "markdown",
   "metadata": {},
   "source": [
    "See where it says base?  That is the name of our environment. You can think of an environment as a sandbox.  Base is our default sandbox."
   ]
  },
  {
   "cell_type": "markdown",
   "metadata": {},
   "source": [
    "<img src=\"https://media.giphy.com/media/3o6Mbc7Sgr8OT4Oyha/giphy.gif\" alt=\"My sandbox\" title=\"Great sandbox, Ralph\" />"
   ]
  },
  {
   "cell_type": "markdown",
   "metadata": {},
   "source": [
    "You can have as many sandboxes as you want with whatever toys (packages) you want in them!"
   ]
  },
  {
   "cell_type": "markdown",
   "metadata": {},
   "source": [
    "##### Toys! (aka Packages)"
   ]
  },
  {
   "cell_type": "markdown",
   "metadata": {},
   "source": [
    "Packages are like mini-programs that come with a whole bunch of pre-defined functions, generally specific to a certain kind of task."
   ]
  },
  {
   "cell_type": "markdown",
   "metadata": {},
   "source": [
    "Anyone can write and publish a package!  Some are more actively maintained than others, but generally if you're struggling with something, odds are that someone has already written a package that might be able to help"
   ]
  },
  {
   "cell_type": "markdown",
   "metadata": {},
   "source": [
    "All the documentation for how to deal with environments and packages in Anaconda in available [here](https://conda.io/docs/user-guide/tasks/manage-environments.html#)."
   ]
  },
  {
   "cell_type": "markdown",
   "metadata": {},
   "source": [
    "#### Let's set up our first environment!"
   ]
  },
  {
   "cell_type": "markdown",
   "metadata": {},
   "source": [
    "We're going to create a new environment called data_school with Python version 3.6 installed."
   ]
  },
  {
   "cell_type": "markdown",
   "metadata": {},
   "source": [
    "To do this, we're going to type the following into our Anaconda Prompt."
   ]
  },
  {
   "cell_type": "markdown",
   "metadata": {},
   "source": [
    "![create_env](screenshots/create_env.PNG)"
   ]
  },
  {
   "cell_type": "markdown",
   "metadata": {},
   "source": [
    "Then hit enter!"
   ]
  },
  {
   "cell_type": "markdown",
   "metadata": {},
   "source": [
    "![create_env](screenshots/create_env3.PNG)"
   ]
  },
  {
   "cell_type": "markdown",
   "metadata": {},
   "source": [
    "This page is telling us that it's going to make our data_school environment, save it in the folder with all of our environments, and it's going to have Python version 3.6.  It will require the following packages and then asks if we want to intall them, which we do!"
   ]
  },
  {
   "cell_type": "markdown",
   "metadata": {},
   "source": [
    "Once we hit enter, it will set up our environment and then tell us how to activate it!  Which we will do by typing ***conda activate data_school*** and then hitting enter."
   ]
  },
  {
   "cell_type": "markdown",
   "metadata": {},
   "source": [
    "![create_env](screenshots/create_env4.PNG)"
   ]
  },
  {
   "cell_type": "markdown",
   "metadata": {},
   "source": [
    "Now you see where it said base, it now says data_school.  We are playing in the right sandbox!"
   ]
  },
  {
   "cell_type": "markdown",
   "metadata": {},
   "source": [
    "#### Installing packages into our environment."
   ]
  },
  {
   "cell_type": "markdown",
   "metadata": {},
   "source": [
    "Now let's install our first package into our environment!  We're going to install pandas, which is an adorably-named package that makes working with relational data easy and dare I say, fun."
   ]
  },
  {
   "cell_type": "markdown",
   "metadata": {},
   "source": [
    "<img src=\"https://media.giphy.com/media/EatwJZRUIv41G/giphy.gif\" alt=\"panda dance\" title=\"Get it, panda\" />"
   ]
  },
  {
   "cell_type": "markdown",
   "metadata": {},
   "source": [
    "To install our package, we are going to type ***conda install -n data_school pandas***, hit enter, and then ***y*** and hit enter."
   ]
  },
  {
   "cell_type": "markdown",
   "metadata": {},
   "source": [
    "![create_env](screenshots/create_env6.PNG)"
   ]
  },
  {
   "cell_type": "markdown",
   "metadata": {},
   "source": [
    "Now we can check to see if it's in our environment by typing ***conda list-n data_school***."
   ]
  },
  {
   "cell_type": "markdown",
   "metadata": {},
   "source": [
    "![create_env](screenshots/list_env.PNG)"
   ]
  },
  {
   "cell_type": "markdown",
   "metadata": {},
   "source": [
    "#### ***et voila! Pandas!***"
   ]
  },
  {
   "cell_type": "markdown",
   "metadata": {},
   "source": [
    "To deactivate our environment, we simply type ***deactivate*** at the prompt.  It's a good idea to deactivate one environment before switching to another."
   ]
  },
  {
   "cell_type": "markdown",
   "metadata": {},
   "source": [
    "![deactivate_env](screenshots/deactivate_env.PNG)"
   ]
  },
  {
   "cell_type": "markdown",
   "metadata": {},
   "source": [
    "You see that the section before the directory address switched from ***data_school*** back to ***base***.  That means we're back in our default environment."
   ]
  },
  {
   "cell_type": "markdown",
   "metadata": {},
   "source": [
    "To reactivate our environment, we write ***activate data_school***."
   ]
  },
  {
   "cell_type": "markdown",
   "metadata": {},
   "source": [
    "![deactivate_env](screenshots/activate.PNG)"
   ]
  },
  {
   "cell_type": "markdown",
   "metadata": {},
   "source": [
    "### Why are we learning about these weird sandboxes?"
   ]
  },
  {
   "cell_type": "markdown",
   "metadata": {},
   "source": [
    "You may ask, why not just install lots of stuff into my default environment and never look back?  Valid question!"
   ]
  },
  {
   "cell_type": "markdown",
   "metadata": {},
   "source": [
    "We use environments so that others can recreate our work!  There are multiple different versions of Python, and even more versions of different packages, all of which may perform slightly differently.  When we write code, we're writing code that operates **conditional upon on the versions of python and packages we're using**.  The way to make sure that others can replicate our work (a fundamental value of data analysis) is to both share the code, **and the environment in which we wrote it**."
   ]
  },
  {
   "cell_type": "markdown",
   "metadata": {},
   "source": [
    "For [a lot of complicated reasons](https://jakevdp.github.io/blog/2017/12/05/installing-python-packages-from-jupyter/), you should only install packages into your virtual environment via the Anaconda Prompt.  It is tempting to do it directly from your notebook!  However, this leads to problems down the road."
   ]
  },
  {
   "cell_type": "markdown",
   "metadata": {},
   "source": [
    "## Okay! Let's launch Jupyter Lab!"
   ]
  },
  {
   "cell_type": "markdown",
   "metadata": {},
   "source": [
    "With our environment activated, type ***jupyter lab***."
   ]
  },
  {
   "cell_type": "markdown",
   "metadata": {},
   "source": [
    "![deactivate_env](screenshots/jupyter_lab.PNG)"
   ]
  },
  {
   "cell_type": "markdown",
   "metadata": {},
   "source": [
    "This will launch a new window in your default internet browser that looks like this."
   ]
  },
  {
   "cell_type": "markdown",
   "metadata": {},
   "source": [
    "![deactivate_env](screenshots/jupyter_lab2.PNG)"
   ]
  },
  {
   "cell_type": "markdown",
   "metadata": {},
   "source": [
    "On the left, navigate to the folder where you want to save your notebook, then click on Python 3 in the Notebook section."
   ]
  },
  {
   "cell_type": "markdown",
   "metadata": {},
   "source": [
    "Type ***import pandas as pd*** into the first cell of the notebook, hit ***shift*** and ***enter*** at the same time.  ***pd*** is the *alias* for pandas, which means everytime you use pandas, you don't have to type out the whole word--you can just use ***pd*** to tell Python you want to use that package."
   ]
  },
  {
   "cell_type": "markdown",
   "metadata": {},
   "source": [
    "![deactivate_env](screenshots/import_pandas.PNG)"
   ]
  },
  {
   "cell_type": "markdown",
   "metadata": {},
   "source": [
    "If your code was successful, you'll get a little number next to the cell.  That is called the \"execution count\" and it counts as you run cells.  If your code wasn't successful, you'll see some kind of error message.  Read it!  They're usually pretty informative."
   ]
  },
  {
   "cell_type": "markdown",
   "metadata": {},
   "source": [
    "![deactivate_env](screenshots/imort_pandas.PNG)"
   ]
  },
  {
   "cell_type": "markdown",
   "metadata": {},
   "source": [
    "What did I do wrong?"
   ]
  }
 ],
 "metadata": {
  "kernelspec": {
   "display_name": "Python 3",
   "language": "python",
   "name": "python3"
  },
  "language_info": {
   "codemirror_mode": {
    "name": "ipython",
    "version": 3
   },
   "file_extension": ".py",
   "mimetype": "text/x-python",
   "name": "python",
   "nbconvert_exporter": "python",
   "pygments_lexer": "ipython3",
   "version": "3.6.6"
  }
 },
 "nbformat": 4,
 "nbformat_minor": 2
}
